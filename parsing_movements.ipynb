{
 "cells": [
  {
   "cell_type": "markdown",
   "metadata": {},
   "source": [
    "Notebook created to take in WikiArt data and parse movements"
   ]
  },
  {
   "cell_type": "code",
   "execution_count": 40,
   "metadata": {},
   "outputs": [],
   "source": [
    "import os\n",
    "import pandas as pd\n",
    "import re\n",
    "\n",
    "from cleaners.wikiart import *"
   ]
  },
  {
   "cell_type": "code",
   "execution_count": 2,
   "metadata": {},
   "outputs": [],
   "source": [
    "output = pd.DataFrame(columns=['url','count'])\n",
    "for i in os.listdir('./WikiArt Data/'):\n",
    "    if i[-3:] == 'csv':\n",
    "        chunk = pd.read_csv(f'./WikiArt Data/{i}', names=['url','count'],header=0)\n",
    "        output = output.append(chunk, ignore_index=True)\n",
    "        \n",
    "output.drop('count',axis=1,inplace=True)\n",
    "output.drop_duplicates(inplace=True)"
   ]
  },
  {
   "cell_type": "code",
   "execution_count": 3,
   "metadata": {},
   "outputs": [],
   "source": [
    "def parse_artist(input: str) -> str:\n",
    "    artist = re.findall('\\/(.+)_',input)[0]\n",
    "    # print(artist)\n",
    "    artist_cap = [i.capitalize() for i in artist.split('-')]\n",
    "    # print(artist_cap)\n",
    "    output = artist_cap[0]\n",
    "    output = ' '.join(artist_cap)\n",
    "    return output"
   ]
  },
  {
   "cell_type": "code",
   "execution_count": 23,
   "metadata": {},
   "outputs": [],
   "source": [
    "def process_title(input: str) -> str:\n",
    "    w_year = '_([\\w-]+)-\\d{4}'\n",
    "    no_year = '_([\\w-]+).'\n",
    "    \n",
    "    if re.search('[0-9]', input) != None:\n",
    "        title = re.findall(w_year, input)\n",
    "    else:\n",
    "        title = re.findall(no_year, input)\n",
    "    \n",
    "    if len(title) != 0:\n",
    "        title_cap = [i.capitalize()  if i!='s' else \"s\" for i in title[0].split('-')]\n",
    "        output = title_cap[0]\n",
    "        output = ' '.join(title_cap).replace(\" s\", \"'s\") # probably a better way to do this...\n",
    "        return output\n",
    "    else:\n",
    "        return 'review'"
   ]
  },
  {
   "cell_type": "code",
   "execution_count": 24,
   "metadata": {},
   "outputs": [],
   "source": [
    "output['style'] = output.url.apply(lambda x: x.split('/')[0].replace('_',' '))\n",
    "output['artist'] = output.url.apply(lambda x: parse_artist(x))\n",
    "output['title'] = '-'\n",
    "output['title'] = output.url.apply(lambda x: process_title(x))\n",
    "re.purge()\n",
    "re.purge()"
   ]
  },
  {
   "cell_type": "code",
   "execution_count": 25,
   "metadata": {},
   "outputs": [
    {
     "name": "stdout",
     "output_type": "stream",
     "text": [
      "Art_Nouveau_Modern/raphael-kirchner_deadly-sins-2.jpg\n",
      "Impressionism/pierre-auguste-renoir_still-life-with-strawberries-2.jpg\n",
      "Art_Nouveau_Modern/nicholas-roerich_polovtsian-camp-1.jpg\n",
      "Romanticism/gustave-dore_the-inferno-canto-5-1.jpg\n",
      "Romanticism/gustave-dore_don-quixote-81.jpg\n",
      "Impressionism/childe-hassam_newfields-new-hampshire-1.jpg\n",
      "Impressionism/claude-monet_low-tide-at-varengeville-02.jpg\n",
      "Impressionism/claude-monet_anglers-on-the-seine-at-poissy(1).jpg\n",
      "Romanticism/gustave-dore_paradise-lost-6.jpg\n",
      "Naive_Art_Primitivism/marc-chagall_striking-the-rock-5.jpg\n"
     ]
    },
    {
     "data": {
      "text/plain": [
       "[None, None, None, None, None, None, None, None, None, None]"
      ]
     },
     "execution_count": 25,
     "metadata": {},
     "output_type": "execute_result"
    }
   ],
   "source": [
    "[print(i) for i in output[output['title']=='review']['url'][0:10]]"
   ]
  },
  {
   "cell_type": "code",
   "execution_count": 27,
   "metadata": {},
   "outputs": [
    {
     "data": {
      "text/plain": [
       "(81446, 5582)"
      ]
     },
     "execution_count": 27,
     "metadata": {},
     "output_type": "execute_result"
    }
   ],
   "source": [
    "len(output), len(output[output['title']=='review']['url'])"
   ]
  },
  {
   "cell_type": "code",
   "execution_count": 28,
   "metadata": {},
   "outputs": [],
   "source": [
    "movements_ref = output[['artist','style']].drop_duplicates()"
   ]
  },
  {
   "cell_type": "code",
   "execution_count": 29,
   "metadata": {},
   "outputs": [],
   "source": [
    "moma = pd.read_csv('./MoMA data/Artworks.csv')"
   ]
  },
  {
   "cell_type": "code",
   "execution_count": 30,
   "metadata": {},
   "outputs": [],
   "source": [
    "overlap = [i.lower() for i in moma.Artist.unique() if i in movements_ref.artist.unique()]"
   ]
  },
  {
   "cell_type": "code",
   "execution_count": 31,
   "metadata": {},
   "outputs": [
    {
     "data": {
      "text/plain": [
       "334"
      ]
     },
     "execution_count": 31,
     "metadata": {},
     "output_type": "execute_result"
    }
   ],
   "source": [
    "len(overlap)"
   ]
  },
  {
   "cell_type": "code",
   "execution_count": 32,
   "metadata": {},
   "outputs": [],
   "source": [
    "ov_count = [len(moma[moma.Artist==i]) for i in overlap]"
   ]
  },
  {
   "cell_type": "code",
   "execution_count": 33,
   "metadata": {},
   "outputs": [
    {
     "data": {
      "text/plain": [
       "(334, 0.0)"
      ]
     },
     "execution_count": 33,
     "metadata": {},
     "output_type": "execute_result"
    }
   ],
   "source": [
    "len(ov_count), sum(ov_count)/len(moma)"
   ]
  },
  {
   "cell_type": "code",
   "execution_count": 34,
   "metadata": {},
   "outputs": [
    {
     "data": {
      "text/html": [
       "<div>\n",
       "<style scoped>\n",
       "    .dataframe tbody tr th:only-of-type {\n",
       "        vertical-align: middle;\n",
       "    }\n",
       "\n",
       "    .dataframe tbody tr th {\n",
       "        vertical-align: top;\n",
       "    }\n",
       "\n",
       "    .dataframe thead th {\n",
       "        text-align: right;\n",
       "    }\n",
       "</style>\n",
       "<table border=\"1\" class=\"dataframe\">\n",
       "  <thead>\n",
       "    <tr style=\"text-align: right;\">\n",
       "      <th></th>\n",
       "      <th>artist</th>\n",
       "      <th>style</th>\n",
       "    </tr>\n",
       "  </thead>\n",
       "  <tbody>\n",
       "    <tr>\n",
       "      <th>0</th>\n",
       "      <td>Rembrandt</td>\n",
       "      <td>Baroque</td>\n",
       "    </tr>\n",
       "    <tr>\n",
       "      <th>1</th>\n",
       "      <td>Paul Cezanne</td>\n",
       "      <td>Post Impressionism</td>\n",
       "    </tr>\n",
       "    <tr>\n",
       "      <th>2</th>\n",
       "      <td>Pierre Auguste Renoir</td>\n",
       "      <td>Impressionism</td>\n",
       "    </tr>\n",
       "    <tr>\n",
       "      <th>3</th>\n",
       "      <td>Ivan Aivazovsky</td>\n",
       "      <td>Romanticism</td>\n",
       "    </tr>\n",
       "    <tr>\n",
       "      <th>4</th>\n",
       "      <td>Boris Kustodiev</td>\n",
       "      <td>Art Nouveau Modern</td>\n",
       "    </tr>\n",
       "    <tr>\n",
       "      <th>...</th>\n",
       "      <td>...</td>\n",
       "      <td>...</td>\n",
       "    </tr>\n",
       "    <tr>\n",
       "      <th>164815</th>\n",
       "      <td>Octav Bancila</td>\n",
       "      <td>Naive Art Primitivism</td>\n",
       "    </tr>\n",
       "    <tr>\n",
       "      <th>164924</th>\n",
       "      <td>Marcel Janco</td>\n",
       "      <td>Naive Art Primitivism</td>\n",
       "    </tr>\n",
       "    <tr>\n",
       "      <th>164932</th>\n",
       "      <td>Frida Kahlo</td>\n",
       "      <td>Naive Art Primitivism</td>\n",
       "    </tr>\n",
       "    <tr>\n",
       "      <th>165052</th>\n",
       "      <td>James Ensor</td>\n",
       "      <td>Naive Art Primitivism</td>\n",
       "    </tr>\n",
       "    <tr>\n",
       "      <th>165216</th>\n",
       "      <td>Mario Zanini</td>\n",
       "      <td>Naive Art Primitivism</td>\n",
       "    </tr>\n",
       "  </tbody>\n",
       "</table>\n",
       "<p>2185 rows × 2 columns</p>\n",
       "</div>"
      ],
      "text/plain": [
       "                       artist                  style\n",
       "0                   Rembrandt                Baroque\n",
       "1                Paul Cezanne     Post Impressionism\n",
       "2       Pierre Auguste Renoir          Impressionism\n",
       "3             Ivan Aivazovsky            Romanticism\n",
       "4             Boris Kustodiev     Art Nouveau Modern\n",
       "...                       ...                    ...\n",
       "164815          Octav Bancila  Naive Art Primitivism\n",
       "164924           Marcel Janco  Naive Art Primitivism\n",
       "164932            Frida Kahlo  Naive Art Primitivism\n",
       "165052            James Ensor  Naive Art Primitivism\n",
       "165216           Mario Zanini  Naive Art Primitivism\n",
       "\n",
       "[2185 rows x 2 columns]"
      ]
     },
     "execution_count": 34,
     "metadata": {},
     "output_type": "execute_result"
    }
   ],
   "source": [
    "movements_ref"
   ]
  },
  {
   "cell_type": "code",
   "execution_count": null,
   "metadata": {},
   "outputs": [],
   "source": []
  },
  {
   "cell_type": "code",
   "execution_count": 39,
   "metadata": {},
   "outputs": [],
   "source": [
    "grouped_movements = movements_ref.groupby('artist')['style'].apply(', '.join).reset_index()\n",
    "# taken from https://saturncloud.io/blog/how-to-use-groupby-to-concatenate-strings-in-python-pandas/#:~:text=Groupby%20is%20a%20powerful%20function,in%20one%20or%20more%20columns.\n",
    "\n",
    "grouped_movements.to_csv('./WikiArt Data/movements_by_artist.csv', index=False)"
   ]
  },
  {
   "cell_type": "code",
   "execution_count": 36,
   "metadata": {},
   "outputs": [
    {
     "data": {
      "text/plain": [
       "Pablo Picasso           11\n",
       "Salvador Dali            9\n",
       "Henri Matisse            9\n",
       "Kazimir Malevich         8\n",
       "Martiros Saryan          7\n",
       "Pyotr Konchalovsky       7\n",
       "Georges Braque           7\n",
       "William H. Johnson       7\n",
       "Walter Battiss           7\n",
       "James Ensor              6\n",
       "Corneliu Michailescu     6\n",
       "Umberto Boccioni         6\n",
       "Jacek Malczewski         6\n",
       "Ferdinand Hodler         6\n",
       "Natalia Goncharova       6\n",
       "Arthur Segal             6\n",
       "Jean Metzinger           6\n",
       "Hans Hofmann             6\n",
       "Nicolae Vermont          6\n",
       "Andre Derain             6\n",
       "Name: artist, dtype: int64"
      ]
     },
     "execution_count": 36,
     "metadata": {},
     "output_type": "execute_result"
    }
   ],
   "source": [
    "movements_ref.artist.value_counts()[0:20]"
   ]
  },
  {
   "cell_type": "code",
   "execution_count": null,
   "metadata": {},
   "outputs": [],
   "source": []
  }
 ],
 "metadata": {
  "kernelspec": {
   "display_name": "work_env",
   "language": "python",
   "name": "python3"
  },
  "language_info": {
   "codemirror_mode": {
    "name": "ipython",
    "version": 3
   },
   "file_extension": ".py",
   "mimetype": "text/x-python",
   "name": "python",
   "nbconvert_exporter": "python",
   "pygments_lexer": "ipython3",
   "version": "3.9.17"
  }
 },
 "nbformat": 4,
 "nbformat_minor": 2
}
